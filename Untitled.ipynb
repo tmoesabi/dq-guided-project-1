{
 "cells": [
  {
   "cell_type": "markdown",
   "metadata": {},
   "source": [
    "# App Store and Google Play Martkets\n",
    "\n",
    "Our goal in this project is to analyze moble app profiles to determine which are most profitable for the App Store and Google Play Markets. We are data analysts for a company that builds Android and iOS mobile apps, and would like to make decisitions (based on the data) about what types of apps our company should develope. \n",
    "We only build apps that are free to download and install, and our main source of revenue consists of in-app ads. This means our revenue for any given app is mostly influenced by the number of users who use our app — the more users that see and engage with the adds, the better. Our goal for this project is to analyze data to help our developers understand what kinds of apps are likely to attract more users."
   ]
  },
  {
   "cell_type": "markdown",
   "metadata": {},
   "source": [
    "## Opening the Data Set:\n",
    "\n",
    "Save the AppleStore.csv file as a file object called `open_file`. We then read the file object into `read_file` using the `reader()` command. You must first must import `reader` from the `csv` library. We then create a list of list from our read object using the `lists()` comand.\n",
    "Finally, we store the the header row and the remaining rows fo data in two seperate variables, `appstore_hdr` and  `appstore`."
   ]
  },
  {
   "cell_type": "markdown",
   "metadata": {},
   "source": []
  },
  {
   "cell_type": "code",
   "execution_count": 1,
   "metadata": {},
   "outputs": [],
   "source": [
    "from csv import reader\n",
    "\n",
    "open_file = open(\"AppleStore.csv\")\n",
    "read_file = reader(open_file)\n",
    "appstore = list(read_file)\n",
    "appstore_hdr = appstore[0]\n",
    "appstore = appstore[1:]"
   ]
  },
  {
   "cell_type": "markdown",
   "metadata": {},
   "source": [
    "This data set contains more than 7000 Apple iOS mobile application details. The data\n",
    "was extracted from the iTunes Search API at the Apple Inc website. The documentation for data can be found [here](https://www.kaggle.com/ramamet4/app-store-apple-data-set-10k-apps/home)."
   ]
  },
  {
   "cell_type": "markdown",
   "metadata": {},
   "source": [
    "| Column Name | Description|\n",
    "|-------------| -----------|\n",
    "|\"id\"\t| App ID\n",
    "|\"track_name | App Name|\n",
    "|\"size_bytes\"| Size (in Bytes)|\n",
    "| ..... | .....|\n"
   ]
  },
  {
   "cell_type": "code",
   "execution_count": null,
   "metadata": {},
   "outputs": [],
   "source": []
  }
 ],
 "metadata": {
  "kernelspec": {
   "display_name": "Python 3",
   "language": "python",
   "name": "python3"
  },
  "language_info": {
   "codemirror_mode": {
    "name": "ipython",
    "version": 3
   },
   "file_extension": ".py",
   "mimetype": "text/x-python",
   "name": "python",
   "nbconvert_exporter": "python",
   "pygments_lexer": "ipython3",
   "version": "3.7.1"
  }
 },
 "nbformat": 4,
 "nbformat_minor": 2
}
